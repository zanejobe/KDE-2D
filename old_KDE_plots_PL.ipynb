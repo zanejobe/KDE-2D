{
 "cells": [
  {
   "cell_type": "code",
   "execution_count": 1,
   "metadata": {},
   "outputs": [],
   "source": [
    "import pandas as pd\n",
    "import numpy as np\n",
    "\n",
    "import matplotlib\n",
    "import matplotlib.pyplot as plt\n",
    "import matplotlib.patches as mpatches\n",
    "import seaborn as sns\n",
    "import math\n",
    "\n",
    "import density_contour\n",
    "\n",
    "# plot inline figures\n",
    "%matplotlib inline \n",
    "\n",
    "# to make saved pdf figures have real text, not outlines\n",
    "matplotlib.rcParams['pdf.fonttype'] = 42 \n",
    "matplotlib.rcParams['ps.fonttype'] = 42"
   ]
  },
  {
   "cell_type": "code",
   "execution_count": 7,
   "metadata": {},
   "outputs": [],
   "source": [
    "############# THINGS TO MODIFY\n",
    "\n",
    "# Read into pandas DataFrames\n",
    "datapath=\"/Users/zanejobe/Dropbox/_CoRE/Rosie_Zane_working/Seaborn/\"\n",
    "filename=\"PLDataLOGGED_TH_TR_Dist_OneGroup\"\n",
    "\n",
    "# specify export file name\n",
    "figname=\"PL_TH_TR_Data\"\n",
    "\n",
    "# axis labels\n",
    "xlab='thickness'\n",
    "ylab='thinning rate'\n"
   ]
  },
  {
   "cell_type": "code",
   "execution_count": 12,
   "metadata": {},
   "outputs": [
    {
     "name": "stderr",
     "output_type": "stream",
     "text": [
      "/anaconda3/lib/python3.6/site-packages/ipykernel_launcher.py:2: ParserWarning: Falling back to the 'python' engine because the 'c' engine does not support regex separators (separators > 1 char and different from '\\s+' are interpreted as regex); you can avoid this warning by specifying engine='python'.\n",
      "  \n"
     ]
    }
   ],
   "source": [
    "# import data\n",
    "df = pd.read_csv(datapath + filename + '.txt', header=None, sep='  ', names=['x', 'y', 'group']) # throws a warning because the file is delimited by multiple spaces, and python expects only 1 space\n",
    "\n",
    "xlim=[math.floor(df.x.min()),math.ceil(df.x.max())]\n",
    "ylim=[math.floor(df.y.min()),math.ceil(df.y.max())]\n",
    "\n",
    "# read in the RGB values that Rosie prefers\n",
    "rgb_val = pd.read_csv(datapath + filename + '_RGB_values.txt', header=None, sep=' ',names=['r','g','b','group'])\n",
    "rgb_val.r = rgb_val.r/255\n",
    "rgb_val.g = rgb_val.g/255\n",
    "rgb_val.b = rgb_val.b/255"
   ]
  },
  {
   "cell_type": "code",
   "execution_count": 7,
   "metadata": {},
   "outputs": [
    {
     "ename": "NameError",
     "evalue": "name 'df' is not defined",
     "output_type": "error",
     "traceback": [
      "\u001b[0;31m---------------------------------------------------------------------------\u001b[0m",
      "\u001b[0;31mNameError\u001b[0m                                 Traceback (most recent call last)",
      "\u001b[0;32m<ipython-input-7-2fb3c9fbef15>\u001b[0m in \u001b[0;36m<module>\u001b[0;34m()\u001b[0m\n\u001b[1;32m      7\u001b[0m \u001b[0;31m## NEED to figure out how to only plot 90% contour\u001b[0m\u001b[0;34m\u001b[0m\u001b[0;34m\u001b[0m\u001b[0m\n\u001b[1;32m      8\u001b[0m \u001b[0;34m\u001b[0m\u001b[0m\n\u001b[0;32m----> 9\u001b[0;31m \u001b[0;32mfor\u001b[0m \u001b[0mgroup\u001b[0m \u001b[0;32min\u001b[0m \u001b[0mdf\u001b[0m\u001b[0;34m.\u001b[0m\u001b[0mgroupby\u001b[0m\u001b[0;34m(\u001b[0m\u001b[0;34m\"group\"\u001b[0m\u001b[0;34m)\u001b[0m\u001b[0;34m:\u001b[0m\u001b[0;34m\u001b[0m\u001b[0m\n\u001b[0m\u001b[1;32m     10\u001b[0m     \u001b[0msns\u001b[0m\u001b[0;34m.\u001b[0m\u001b[0mset_palette\u001b[0m\u001b[0;34m(\u001b[0m\u001b[0;34m'husl'\u001b[0m\u001b[0;34m,\u001b[0m \u001b[0mn_colors\u001b[0m\u001b[0;34m=\u001b[0m\u001b[0mdf\u001b[0m\u001b[0;34m[\u001b[0m\u001b[0;34m'group'\u001b[0m\u001b[0;34m]\u001b[0m\u001b[0;34m.\u001b[0m\u001b[0munique\u001b[0m\u001b[0;34m(\u001b[0m\u001b[0;34m)\u001b[0m\u001b[0;34m.\u001b[0m\u001b[0msize\u001b[0m\u001b[0;34m)\u001b[0m\u001b[0;34m\u001b[0m\u001b[0m\n\u001b[1;32m     11\u001b[0m     \u001b[0mg\u001b[0m \u001b[0;34m=\u001b[0m \u001b[0msns\u001b[0m\u001b[0;34m.\u001b[0m\u001b[0mJointGrid\u001b[0m\u001b[0;34m(\u001b[0m\u001b[0;34m\"x\"\u001b[0m\u001b[0;34m,\u001b[0m \u001b[0;34m\"y\"\u001b[0m\u001b[0;34m,\u001b[0m \u001b[0mdf\u001b[0m\u001b[0;34m,\u001b[0m \u001b[0msize\u001b[0m\u001b[0;34m=\u001b[0m\u001b[0;36m8\u001b[0m\u001b[0;34m,\u001b[0m \u001b[0mspace\u001b[0m\u001b[0;34m=\u001b[0m\u001b[0;36m0\u001b[0m\u001b[0;34m)\u001b[0m\u001b[0;34m\u001b[0m\u001b[0m\n",
      "\u001b[0;31mNameError\u001b[0m: name 'df' is not defined"
     ]
    }
   ],
   "source": [
    "for group in df.groupby(\"group\"):\n",
    "    sns.set_palette('husl', n_colors=df['group'].unique().size)    \n",
    "    g = sns.JointGrid(\"x\", \"y\", df, size=8, space=0)\n",
    "    patches = []\n",
    "    \n",
    "    for group, values in df.groupby(\"group\"):\n",
    "        \n",
    "        # plot the marginal KDEs for x and y\n",
    "        sns.kdeplot(values[\"x\"], ax=g.ax_marg_x, shade=True, legend=False)\n",
    "        ax = sns.kdeplot(values[\"y\"], ax=g.ax_marg_y, vertical=True, shade=True, legend=False)\n",
    "        \n",
    "        color = ax.get_lines()[-1].get_color()\n",
    "        patches.append(mpatches.Patch(color=color, label=group))\n",
    "        \n",
    "        # now plot the 2D contour map\n",
    "        sns.kdeplot(values[\"x\"], values[\"y\"], ax=g.ax_joint, cmap=cmap_from_color(color))\n",
    "        g.ax_joint.scatter(values.x.median(), values.y.median(), color=color, s=25)\n",
    "    \n",
    "    g.set_axis_labels(xlabel=xlab, ylabel=ylab)\n",
    "    g.ax_joint.set_xlim(xlim)\n",
    "    g.ax_joint.set_ylim(ylim)\n",
    "    \n",
    "    # save as pdf\n",
    "    plt.savefig(figname + \".pdf\", transparent=True)\n",
    "    plt.show()\n",
    "    \n",
    "    plt.legend(handles=patches)\n",
    "    plt.savefig(figname + 'LEGEND.png')\n",
    "    plt.show()"
   ]
  },
  {
   "cell_type": "code",
   "execution_count": null,
   "metadata": {},
   "outputs": [],
   "source": []
  }
 ],
 "metadata": {
  "kernelspec": {
   "display_name": "Python 3",
   "language": "python",
   "name": "python3"
  },
  "language_info": {
   "codemirror_mode": {
    "name": "ipython",
    "version": 3
   },
   "file_extension": ".py",
   "mimetype": "text/x-python",
   "name": "python",
   "nbconvert_exporter": "python",
   "pygments_lexer": "ipython3",
   "version": "3.6.4"
  }
 },
 "nbformat": 4,
 "nbformat_minor": 2
}
